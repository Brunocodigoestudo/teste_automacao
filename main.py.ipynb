{
 "cells": [
  {
   "cell_type": "markdown",
   "metadata": {},
   "source": [
    "# Bibliotecas"
   ]
  },
  {
   "cell_type": "code",
   "execution_count": 1,
   "metadata": {},
   "outputs": [
    {
     "name": "stderr",
     "output_type": "stream",
     "text": [
      "\n",
      "[notice] A new release of pip is available: 24.3.1 -> 25.2\n",
      "[notice] To update, run: python.exe -m pip install --upgrade pip\n"
     ]
    },
    {
     "name": "stdout",
     "output_type": "stream",
     "text": [
      "Requirement already satisfied: pyodbc in c:\\users\\bruno\\appdata\\local\\programs\\python\\python313\\lib\\site-packages (5.2.0)\n",
      "Note: you may need to restart the kernel to use updated packages.\n"
     ]
    }
   ],
   "source": [
    "%pip install pyodbc\n",
    "\n",
    "\n",
    "import pandas as pd\n",
    "import pyodbc \n",
    "\n",
    "server = 'localhost' # Substitua pelo nome do servidor SQL Server\n",
    "database = 'AdventureWorksDW2019'  # Substitua pelo nome do banco de dados\n",
    "conexaoDB = pyodbc.connect('DRIVER={ODBC Driver 17 for SQL Server};'\n",
    "                      f'SERVER={server};'\n",
    "                      f'DATABASE={database};'\n",
    "                      'Trusted_Connection=yes;')\n",
    "\n",
    "cursor = conexaoDB.cursor()   # criando cursor de comando "
   ]
  },
  {
   "cell_type": "code",
   "execution_count": 2,
   "metadata": {},
   "outputs": [
    {
     "name": "stdout",
     "output_type": "stream",
     "text": [
      "CSV gerado com sucesso em: C:\\Users\\Bruno\\Desktop\\projetos_engenharia\\teste_automacao_python\\resultado_query_20250925.csv\n"
     ]
    },
    {
     "name": "stderr",
     "output_type": "stream",
     "text": [
      "C:\\Users\\Bruno\\AppData\\Local\\Temp\\ipykernel_15668\\3635631754.py:8: UserWarning: pandas only supports SQLAlchemy connectable (engine/connection) or database string URI or sqlite3 DBAPI2 connection. Other DBAPI2 objects are not tested. Please consider using SQLAlchemy.\n",
      "  df = pd.read_sql(query, conexaoDB)\n"
     ]
    }
   ],
   "source": [
    "import pandas as pd\n",
    "from datetime import datetime\n",
    "\n",
    "# Minha query\n",
    "query = \"SELECT TOP 100 * FROM DimProduct\"\n",
    "\n",
    "# lê direto para um DataFrame\n",
    "df = pd.read_sql(query, conexaoDB)\n",
    "\n",
    "# gera a data no formato YYYYMMDD\n",
    "data_atual = datetime.now().strftime(\"%Y%m%d\")\n",
    "\n",
    "# caminho com data no nome\n",
    "caminho = fr\"C:\\Users\\Bruno\\Desktop\\projetos_engenharia\\teste_automacao_python\\resultado_query_{data_atual}.csv\"\n",
    "\n",
    "# salva em CSV\n",
    "df.to_csv(caminho, index=False, encoding=\"utf-8-sig\")\n",
    "\n",
    "print(f\"CSV gerado com sucesso em: {caminho}\")\n"
   ]
  }
 ],
 "metadata": {
  "kernelspec": {
   "display_name": "Python 3",
   "language": "python",
   "name": "python3"
  },
  "language_info": {
   "codemirror_mode": {
    "name": "ipython",
    "version": 3
   },
   "file_extension": ".py",
   "mimetype": "text/x-python",
   "name": "python",
   "nbconvert_exporter": "python",
   "pygments_lexer": "ipython3",
   "version": "3.13.2"
  }
 },
 "nbformat": 4,
 "nbformat_minor": 4
}
